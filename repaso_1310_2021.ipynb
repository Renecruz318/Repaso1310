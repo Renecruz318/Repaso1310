{
  "nbformat": 4,
  "nbformat_minor": 0,
  "metadata": {
    "colab": {
      "name": "repaso_1310_2021.ipynb",
      "provenance": [],
      "authorship_tag": "ABX9TyOz1SO4HUWeXrM7ClLHLbKF",
      "include_colab_link": true
    },
    "kernelspec": {
      "name": "python3",
      "display_name": "Python 3"
    },
    "language_info": {
      "name": "python"
    }
  },
  "cells": [
    {
      "cell_type": "markdown",
      "metadata": {
        "id": "view-in-github",
        "colab_type": "text"
      },
      "source": [
        "<a href=\"https://colab.research.google.com/github/Renecruz318/Repaso1310/blob/main/repaso_1310_2021.ipynb\" target=\"_parent\"><img src=\"https://colab.research.google.com/assets/colab-badge.svg\" alt=\"Open In Colab\"/></a>"
      ]
    },
    {
      "cell_type": "markdown",
      "metadata": {
        "id": "sdOs2Zx-fTzM"
      },
      "source": [
        "#Repaso de programacion con python 3\n",
        "#### EDD 1310\n",
        "La funcion print \n",
        "1. utilizando comillas dobles o simples\n",
        "2. utilizando el signo \",\"\n",
        "3. uilizando \"+\"\n",
        "4. utilizando la funcion format\n",
        "5. el operador f\"\""
      ]
    },
    {
      "cell_type": "code",
      "metadata": {
        "colab": {
          "base_uri": "https://localhost:8080/"
        },
        "id": "9O7iWOanb_a9",
        "outputId": "3c80fb23-3a2c-4b05-bd62-8bb0003560d7"
      },
      "source": [
        "print('hola mundo')\n",
        "print(\"hola mundo\")\n",
        "\n",
        "nombre = \"jesus\"\n",
        "carrera = \"Ingenieria en Computación\"\n",
        "\n",
        "print(nombre)\n",
        "\n",
        "print(\"hola\",nombre)\n",
        "print(\"hola\"+nombre)\n",
        "print(\"Tu nombre es\",nombre,\"y estudiaste\",carrera)\n",
        "\n",
        "# con format\n",
        "   # print(\"Tu nombre es {0} y  estudiaste {1}\".format(nombre, carrera ))\n",
        "\n",
        "# con el operador f\"\"\"\n",
        "\n",
        "#print(f\"Tu nombre es {nombre} y estudiaste {carrera}\" )\n",
        "\n",
        "#salto de linea al final\n",
        "print(nombre, end=\"\\n\")\n",
        "print(\" \",end=\"\\n\")\n",
        "print(carrera,end=\"\\n\")"
      ],
      "execution_count": null,
      "outputs": [
        {
          "output_type": "stream",
          "name": "stdout",
          "text": [
            "hola mundo\n",
            "hola mundo\n",
            "jesus\n",
            "hola jesus\n",
            "holajesus\n",
            "Tu nombre es jesus y estudiaste Ingenieria en Computación\n",
            "jesus\n",
            " \n",
            "Ingenieria en Computación\n"
          ]
        }
      ]
    },
    {
      "cell_type": "markdown",
      "metadata": {
        "id": "6Ba8F9QMksVm"
      },
      "source": [
        "## Entrada de datos\n",
        "#### funcion input()\n",
        "\n",
        "SIrve para pedir datos al usuario, equivalente al scanf del lenugaje \"c\" o la clase Scanner de Java\n",
        "\n",
        "siempre regresa un String"
      ]
    },
    {
      "cell_type": "code",
      "metadata": {
        "colab": {
          "base_uri": "https://localhost:8080/"
        },
        "id": "Emtx1BptlBbR",
        "outputId": "a6904b4b-a9d4-4918-c07f-e856e6ab6a87"
      },
      "source": [
        "nombre = input(\"introduce tu nombre \")\n",
        "print(nombre)\n",
        "\n",
        "semestre = input (\"¿En que semestre estas?\")\n",
        "print (semestre)\n",
        "semestre = int (semestre) +1 #se convierte en entera\n",
        "print (semestre)\n",
        "semestre = semestre + 1 #ya es entera\n",
        "print(semestre)\n",
        "\n",
        "semestre = int (input(\"¿Cual es tu semestre?\"))\n",
        "semestre = semestre + 1\n",
        "print (semestre)"
      ],
      "execution_count": null,
      "outputs": [
        {
          "output_type": "stream",
          "name": "stdout",
          "text": [
            "introduce tu nombre Rene\n",
            "Rene\n",
            "¿En que semestre estas?3\n",
            "3\n",
            "4\n",
            "5\n",
            "¿Cual es tu semestre?5\n",
            "6\n"
          ]
        }
      ]
    },
    {
      "cell_type": "markdown",
      "metadata": {
        "id": "Act_CbAAnb3r"
      },
      "source": [
        "### Tarea moral\n",
        "Investigar los siguientes conceptos en python\n",
        "- operadores\n",
        "    - aritmeticos\n",
        "    - logicos\n",
        "    - booleanos (and, or, Not)\n",
        "- aritmetica\n",
        "    - Asignacion \n",
        "    - Agrupacion de ecuaciones con parentesis (precedencia de operadores)\n",
        "- Comentarios\n",
        "    - de simple linea\n",
        "    - de linea multiple\n",
        "-Tipos de datos en python\n"
      ]
    },
    {
      "cell_type": "markdown",
      "metadata": {
        "id": "Uv9FCxAWoU-5"
      },
      "source": [
        "## Repaso del tipo de dato String (str)\n",
        "\n",
        "Es un tipo de dato muy versatil. los tipos de dato en pytohon en realidad son objetos (POO), es decir tiene atributos y métodos.\n",
        "\n",
        "Los valores internos de un string se almacenan como un arreglo, es decir se accede a los elementos con el operador [indice]"
      ]
    },
    {
      "cell_type": "code",
      "metadata": {
        "colab": {
          "base_uri": "https://localhost:8080/"
        },
        "id": "-V9wGs2KoNDI",
        "outputId": "f16131b3-62eb-46fa-ef58-1c1e6745c596"
      },
      "source": [
        "frase = \"El conocimento me persigue... pero yo soy más rapido!!+\"\n",
        "\n",
        "# como se almacena la informacion\n",
        "print(frase[3]) #imprime la tercer letra de la frase\n",
        "\n",
        "print(len(frase))\n",
        "\n",
        "print(frase[54])\n",
        "\n",
        "#indexado\n",
        "print(frase[-8])\n",
        "# iterar sobre un string\n",
        "for oracion in frase:\n",
        "    print(oracion)\n",
        "    print(\"fin\")\n",
        "#quitamos sangria para separar codigo \n",
        "for letra in frase:\n",
        "    print(letra)\n",
        "print(\"fin\")"
      ],
      "execution_count": null,
      "outputs": [
        {
          "output_type": "stream",
          "name": "stdout",
          "text": [
            "c\n",
            "55\n",
            "+\n",
            "a\n",
            "E\n",
            "fin\n",
            "l\n",
            "fin\n",
            " \n",
            "fin\n",
            "c\n",
            "fin\n",
            "o\n",
            "fin\n",
            "n\n",
            "fin\n",
            "o\n",
            "fin\n",
            "c\n",
            "fin\n",
            "i\n",
            "fin\n",
            "m\n",
            "fin\n",
            "e\n",
            "fin\n",
            "n\n",
            "fin\n",
            "t\n",
            "fin\n",
            "o\n",
            "fin\n",
            " \n",
            "fin\n",
            "m\n",
            "fin\n",
            "e\n",
            "fin\n",
            " \n",
            "fin\n",
            "p\n",
            "fin\n",
            "e\n",
            "fin\n",
            "r\n",
            "fin\n",
            "s\n",
            "fin\n",
            "i\n",
            "fin\n",
            "g\n",
            "fin\n",
            "u\n",
            "fin\n",
            "e\n",
            "fin\n",
            ".\n",
            "fin\n",
            ".\n",
            "fin\n",
            ".\n",
            "fin\n",
            " \n",
            "fin\n",
            "p\n",
            "fin\n",
            "e\n",
            "fin\n",
            "r\n",
            "fin\n",
            "o\n",
            "fin\n",
            " \n",
            "fin\n",
            "y\n",
            "fin\n",
            "o\n",
            "fin\n",
            " \n",
            "fin\n",
            "s\n",
            "fin\n",
            "o\n",
            "fin\n",
            "y\n",
            "fin\n",
            " \n",
            "fin\n",
            "m\n",
            "fin\n",
            "á\n",
            "fin\n",
            "s\n",
            "fin\n",
            " \n",
            "fin\n",
            "r\n",
            "fin\n",
            "a\n",
            "fin\n",
            "p\n",
            "fin\n",
            "i\n",
            "fin\n",
            "d\n",
            "fin\n",
            "o\n",
            "fin\n",
            "!\n",
            "fin\n",
            "!\n",
            "fin\n",
            "+\n",
            "fin\n",
            "E\n",
            "l\n",
            " \n",
            "c\n",
            "o\n",
            "n\n",
            "o\n",
            "c\n",
            "i\n",
            "m\n",
            "e\n",
            "n\n",
            "t\n",
            "o\n",
            " \n",
            "m\n",
            "e\n",
            " \n",
            "p\n",
            "e\n",
            "r\n",
            "s\n",
            "i\n",
            "g\n",
            "u\n",
            "e\n",
            ".\n",
            ".\n",
            ".\n",
            " \n",
            "p\n",
            "e\n",
            "r\n",
            "o\n",
            " \n",
            "y\n",
            "o\n",
            " \n",
            "s\n",
            "o\n",
            "y\n",
            " \n",
            "m\n",
            "á\n",
            "s\n",
            " \n",
            "r\n",
            "a\n",
            "p\n",
            "i\n",
            "d\n",
            "o\n",
            "!\n",
            "!\n",
            "+\n",
            "fin\n"
          ]
        }
      ]
    },
    {
      "cell_type": "markdown",
      "metadata": {
        "id": "ZvnEU72TGcEr"
      },
      "source": [
        "# slicing (rebanado) \n",
        "\n",
        "Es posible seleccionar segmentos de una lista (str) por medio de la sintaxis [ <Inicio> : <Tope> : <incremento>]´\n",
        "Por defecto:\n",
        "- Inicio = 0, -1\n",
        "- Tope = tamaño de la lista (str), no incluye el tope\n",
        "- incremento = 1, -1"
      ]
    },
    {
      "cell_type": "code",
      "metadata": {
        "colab": {
          "base_uri": "https://localhost:8080/"
        },
        "id": "KwtFkaqpG7uG",
        "outputId": "b2e3e907-8663-485d-902d-25484a6ddc92"
      },
      "source": [
        "nombre = \"Facultad de Estudios Superiores Aragón\"\n",
        "\n",
        "print( nombre[0])\n",
        "print(nombre[-1])\n",
        "\n",
        "#slicing\n",
        "print(nombre [2 : 5: 1 ])\n",
        "print(nombre [0: 8: 1])\n",
        "#slicing con indexado negativo (-)\n",
        "print(nombre[-6::1])\n",
        "print(nombre[7::-1])"
      ],
      "execution_count": null,
      "outputs": [
        {
          "output_type": "stream",
          "name": "stdout",
          "text": [
            "F\n",
            "n\n",
            "cul\n",
            "Facultad\n",
            "Aragón\n",
            "datlucaF\n"
          ]
        }
      ]
    },
    {
      "cell_type": "markdown",
      "metadata": {
        "id": "9sJS6GYKKfxv"
      },
      "source": [
        "#String como objeto\n",
        "El tipo de dato String es una clase por lo tanto tiene atributos y métodos\n",
        "\n",
        "###Ayuda en lina con python\n",
        "Hay dos funcoines que te ayudan en python :\n",
        "1. dir()\n",
        "2. help()"
      ]
    },
    {
      "cell_type": "code",
      "metadata": {
        "colab": {
          "base_uri": "https://localhost:8080/"
        },
        "id": "noRLBPyKK2bb",
        "outputId": "3be2ead2-bb9d-40a7-a9f1-cb2ca2f0f862"
      },
      "source": [
        "dir(str)"
      ],
      "execution_count": null,
      "outputs": [
        {
          "output_type": "execute_result",
          "data": {
            "text/plain": [
              "['__add__',\n",
              " '__class__',\n",
              " '__contains__',\n",
              " '__delattr__',\n",
              " '__dir__',\n",
              " '__doc__',\n",
              " '__eq__',\n",
              " '__format__',\n",
              " '__ge__',\n",
              " '__getattribute__',\n",
              " '__getitem__',\n",
              " '__getnewargs__',\n",
              " '__gt__',\n",
              " '__hash__',\n",
              " '__init__',\n",
              " '__init_subclass__',\n",
              " '__iter__',\n",
              " '__le__',\n",
              " '__len__',\n",
              " '__lt__',\n",
              " '__mod__',\n",
              " '__mul__',\n",
              " '__ne__',\n",
              " '__new__',\n",
              " '__reduce__',\n",
              " '__reduce_ex__',\n",
              " '__repr__',\n",
              " '__rmod__',\n",
              " '__rmul__',\n",
              " '__setattr__',\n",
              " '__sizeof__',\n",
              " '__str__',\n",
              " '__subclasshook__',\n",
              " 'capitalize',\n",
              " 'casefold',\n",
              " 'center',\n",
              " 'count',\n",
              " 'encode',\n",
              " 'endswith',\n",
              " 'expandtabs',\n",
              " 'find',\n",
              " 'format',\n",
              " 'format_map',\n",
              " 'index',\n",
              " 'isalnum',\n",
              " 'isalpha',\n",
              " 'isascii',\n",
              " 'isdecimal',\n",
              " 'isdigit',\n",
              " 'isidentifier',\n",
              " 'islower',\n",
              " 'isnumeric',\n",
              " 'isprintable',\n",
              " 'isspace',\n",
              " 'istitle',\n",
              " 'isupper',\n",
              " 'join',\n",
              " 'ljust',\n",
              " 'lower',\n",
              " 'lstrip',\n",
              " 'maketrans',\n",
              " 'partition',\n",
              " 'replace',\n",
              " 'rfind',\n",
              " 'rindex',\n",
              " 'rjust',\n",
              " 'rpartition',\n",
              " 'rsplit',\n",
              " 'rstrip',\n",
              " 'split',\n",
              " 'splitlines',\n",
              " 'startswith',\n",
              " 'strip',\n",
              " 'swapcase',\n",
              " 'title',\n",
              " 'translate',\n",
              " 'upper',\n",
              " 'zfill']"
            ]
          },
          "metadata": {},
          "execution_count": 25
        }
      ]
    },
    {
      "cell_type": "code",
      "metadata": {
        "colab": {
          "base_uri": "https://localhost:8080/"
        },
        "id": "nYom97yaLUkB",
        "outputId": "893554af-e720-4fca-af40-469440c66d71"
      },
      "source": [
        "apellidos = \"cruz montejo\"\n",
        "apellido = \"Perez Maya\"\n",
        "\n",
        "print(apellidos.capitalize())\n",
        "print(apellidos.title())\n",
        "print(apellidos.find('z'))\n",
        "print(apellido.lower())\n",
        "\n",
        "\n",
        "numeros = \"     1,      2,      3,       4,5,6   \"\n",
        "num_divididos = numeros.strip().split(',')\n",
        "print(num_divididos)\n",
        "\n",
        "#num_divididos[0] = num_divididos[0].strip()\n",
        "#num_divididos[1] = num_divididos[1].strip()\n",
        "#num_divididos[2] = num_divididos[2].strip()\n",
        "#num_divididos[3] = num_divididos[3].strip()\n",
        "#num_divididos[4] = num_divididos[4].strip()\n",
        "#num_divididos[5] = num_divididos[5].strip()\n",
        "#print(num_divididos)\n",
        "\n",
        "for elem in num_divididos:\n",
        "    print(elem)\n",
        "for index in range(6):\n",
        "    num_divididos[index] = num_divididos[index].strip()\n",
        "print(num_divididos)"
      ],
      "execution_count": null,
      "outputs": [
        {
          "output_type": "stream",
          "name": "stdout",
          "text": [
            "Cruz montejo\n",
            "Cruz Montejo\n",
            "3\n",
            "perez maya\n",
            "['1', '      2', '      3', '       4', '5', '6']\n",
            "1\n",
            "      2\n",
            "      3\n",
            "       4\n",
            "5\n",
            "6\n",
            "['1', '2', '3', '4', '5', '6']\n"
          ]
        }
      ]
    },
    {
      "cell_type": "markdown",
      "metadata": {
        "id": "3MJn7rq3PZGc"
      },
      "source": [
        "# Estructura de control\n",
        "## if\n",
        "## if-else\n",
        "## switch - case (En python implementa con IF)\n",
        "## for\n",
        "# while y do-while\n"
      ]
    },
    {
      "cell_type": "code",
      "metadata": {
        "colab": {
          "base_uri": "https://localhost:8080/"
        },
        "id": "sRea9VCKPwTr",
        "outputId": "e54767c6-92ae-45f0-bf7a-11e9a94386af"
      },
      "source": [
        "# if\n",
        "a = 12\n",
        "b = 23\n",
        "c = 4\n",
        "print(a>b)\n",
        "\n",
        "if a > b:\n",
        "    print(\"Estamos en el if\")\n",
        "    print(\"a es mayor que b\")\n",
        "print(\"Fin del programa\")\n",
        "#######################\n",
        "if c>a:\n",
        "    if c>b:\n",
        "        print(\"c, es el mayor de los tres\")\n",
        "\n",
        "if c>a and c>b:\n",
        "    print(\"c, es el mayor que los tres\")\n",
        "\n",
        "#if else, cual de las tres variables es la mayor\n",
        "if a>b:\n",
        "    if a>c:\n",
        "        print(\"a, es la mayor\")\n",
        "    else:\n",
        "        print(\"c es el mayor\")\n",
        "else: \n",
        "    if b>c:\n",
        "        print(\"b es la mayor\")\n",
        "    else:\n",
        "        print(\"c es la mayor\")\n",
        "\n",
        "# if - else (elif) tiene una notacion especial cuando se encadena un if\n",
        "\n",
        "if a>b:\n",
        "    if a>c:\n",
        "        print(\"a, es la mayor\")\n",
        "    else:\n",
        "        print(\"c es el mayor\")\n",
        "elif b>c:\n",
        "        print(\"b es la mayor\")\n",
        "else:\n",
        "        print(\"c es la mayor\")\n",
        "\n",
        "#pedir al usuario un numero entre 1 y 7, e imprimir el dia de la semana que corresponda\n",
        "#Lunes = 1\n",
        "#Martes = 2\n",
        "#Miercoles = 3\n",
        "#Jueves = 4\n",
        "#Viernes = 5\n",
        "#Sabado = 6\n",
        "#Domingo = 7\n",
        "opcion = int(input(\"introduce un numero entre 1 y 7:\"))\n",
        "if opcion > 0 and opcion <8 : \n",
        "    if opcion ==1:\n",
        "        print(\"Lunes\")\n",
        "    elif opcion == 2:\n",
        "        print(\"Martes\")\n",
        "    elif opcion == 3:\n",
        "        print(\"Miercoles\")\n",
        "    elif opcion == 4:\n",
        "        print(\"Jueves\")\n",
        "    elif opcion == 5:\n",
        "        print(\"Viernes\")\n",
        "    elif opcion == 6:\n",
        "        print(\"Sabado\")\n",
        "    elif opcion == 7:\n",
        "        print(\"Domingo\")\n",
        "else:\n",
        "    print(\"Tu dato esta fuera de lo establecido\")"
      ],
      "execution_count": null,
      "outputs": [
        {
          "output_type": "stream",
          "name": "stdout",
          "text": [
            "False\n",
            "Fin del programa\n",
            "b es la mayor\n",
            "b es la mayor\n",
            "introduce un numero entre 1 y 7:7\n",
            "Domingo\n"
          ]
        }
      ]
    },
    {
      "cell_type": "code",
      "metadata": {
        "colab": {
          "base_uri": "https://localhost:8080/"
        },
        "id": "pBRpHSKDUwBr",
        "outputId": "fba5104d-5034-4b09-cee2-720e9e8cdf6e"
      },
      "source": [
        "# FOR y range## range() es una funcion que te proporciona un enumerado\n",
        "algo = range(4,10,2)\n",
        "frutas = ['Pera', 'Manzana', 'Aguate', 'Kiwi', 'platano']\n",
        "nombre = \"Maya\"\n",
        "print(algo)\n",
        "\n",
        "for x in algo:   #for(int x=4 ;  x<10 ;  x=x+2)\n",
        "    print(x)\n",
        "for index in range (0,5,1):\n",
        "    print(frutas[index])\n",
        "\n",
        "#For e iteradores(For-each)\n",
        "for fruit in frutas:\n",
        "    print(fruit)\n",
        "for letra in nombre:\n",
        "    print(letra.upper())\n"
      ],
      "execution_count": null,
      "outputs": [
        {
          "output_type": "stream",
          "name": "stdout",
          "text": [
            "range(4, 10, 2)\n",
            "4\n",
            "6\n",
            "8\n",
            "Pera\n",
            "Manzana\n",
            "Aguate\n",
            "Kiwi\n",
            "platano\n",
            "Pera\n",
            "Manzana\n",
            "Aguate\n",
            "Kiwi\n",
            "platano\n",
            "M\n",
            "A\n",
            "Y\n",
            "A\n"
          ]
        }
      ]
    },
    {
      "cell_type": "code",
      "metadata": {
        "colab": {
          "base_uri": "https://localhost:8080/"
        },
        "id": "y8S28NzDYLBK",
        "outputId": "3b528505-0997-4d00-c474-29abb38b8788"
      },
      "source": [
        "#while\n",
        "#hace un programa que imprima del 1 al 10\n",
        "control = 1\n",
        "while control <= 10:\n",
        "    print(control)\n",
        "    control += 1"
      ],
      "execution_count": null,
      "outputs": [
        {
          "output_type": "stream",
          "name": "stdout",
          "text": [
            "1\n",
            "2\n",
            "3\n",
            "4\n",
            "5\n",
            "6\n",
            "7\n",
            "8\n",
            "9\n",
            "10\n"
          ]
        }
      ]
    },
    {
      "cell_type": "markdown",
      "metadata": {
        "id": "VJq5EQbxY5SZ"
      },
      "source": [
        "#Funciones\n",
        "Es un segmento de codigo que recib, cero o mas valores de entrada, realiza una o un conjunto de operaciones de forma interna y regresa un solo tipo de datos, aunque ese valor sea None (void)\n",
        "\n",
        "Las funciones se declaran con la palabra reservada **def**"
      ]
    },
    {
      "cell_type": "code",
      "metadata": {
        "colab": {
          "base_uri": "https://localhost:8080/"
        },
        "id": "04uv7Ax6ZVbc",
        "outputId": "d8bd2095-62ef-41c1-f504-7af7f9f64c58"
      },
      "source": [
        "# funcion suma\n",
        "def suma(a, b):\n",
        "    c= 0\n",
        "    c= a+b\n",
        "    return c\n",
        "print(suma( 4 , 5))\n",
        "\n",
        "#funcion que salude personas\n",
        "\n",
        "def saludar(nombre):\n",
        "    print(f\"hola {nombre}, ¿Como estas?\")\n",
        "saludar(\"Rene\")\n",
        "nombre = \"Maya\"\n",
        "saludar(nombre)\n",
        "\n",
        "\n",
        "res = saludar(nombre)\n",
        "print(res)"
      ],
      "execution_count": null,
      "outputs": [
        {
          "output_type": "stream",
          "name": "stdout",
          "text": [
            "9\n",
            "hola Rene, ¿Como estas?\n",
            "hola Maya, ¿Como estas?\n",
            "hola Maya, ¿Como estas?\n",
            "None\n"
          ]
        }
      ]
    },
    {
      "cell_type": "markdown",
      "metadata": {
        "id": "zYO_wBn9JSX-"
      },
      "source": [
        "## Default y funciones\n",
        "\n",
        "hay ocasiones que es necesario declarar valores por defecto en los argumentos de una funcion.\n"
      ]
    },
    {
      "cell_type": "code",
      "metadata": {
        "colab": {
          "base_uri": "https://localhost:8080/"
        },
        "id": "EWP6uSZ4JiwG",
        "outputId": "2c4aa175-aa13-4448-d621-b670f606092b"
      },
      "source": [
        "def saludar(nombre, veces=5):\n",
        "    for x in range( veces):\n",
        "        print(f\"{x}.-Hola {nombre}\")\n",
        "saludar (\"Juan\", 3)\n",
        "\n",
        "#argumentos con llamadas no posicionales\n",
        "\n",
        "saludar (veces=6 , nombre= \"Juan\")"
      ],
      "execution_count": null,
      "outputs": [
        {
          "output_type": "stream",
          "name": "stdout",
          "text": [
            "0.-Hola Juan\n",
            "1.-Hola Juan\n",
            "2.-Hola Juan\n",
            "0.-Hola Juan\n",
            "1.-Hola Juan\n",
            "2.-Hola Juan\n",
            "3.-Hola Juan\n",
            "4.-Hola Juan\n",
            "5.-Hola Juan\n"
          ]
        }
      ]
    },
    {
      "cell_type": "markdown",
      "metadata": {
        "id": "gUqab2g8baZy"
      },
      "source": [
        "# Listas, diccionarios, tuplas y sets"
      ]
    },
    {
      "cell_type": "markdown",
      "metadata": {
        "id": "1t4T2rrBMCzF"
      },
      "source": [
        "## Listas\n",
        "Son estructuras de datos declaras en Python, funcionan como los arreglos en Java y c, con algunas diferencias\n",
        "\n",
        "* Usan el selector []\n",
        "* Estructura secuencial (0...n)\n",
        "* Son mutables\n",
        "* Puede contener valores de diferente tipo: [1, \"manzana\", True, 1.23]\n",
        "* Pueden ser anidados (Multidimensional)\n",
        "* Se crean usando el operador [] y lisy ()"
      ]
    },
    {
      "cell_type": "code",
      "metadata": {
        "colab": {
          "base_uri": "https://localhost:8080/"
        },
        "id": "8fGUBog9M6UX",
        "outputId": "62ae0514-f4ca-4e56-b58d-9622061ab14e"
      },
      "source": [
        "frutas = [\"pera\", \"lima\", \"limon\", \"kiwi\", \"manzana\"]\n",
        "print(frutas)\n",
        "print(frutas[1])\n",
        "frutas[1] = \"Mango\"\n",
        "print(frutas)\n",
        "persona = [\"José\", 1.78, 19, False, 70.5, \"ICO\"]\n",
        "print(persona[-1])\n",
        "\n",
        "#Slicing\n",
        "numeros =[2,4,6,8,10,12,14,16,18,20]\n",
        "print(numeros)\n",
        "print(numeros[4:7])\n"
      ],
      "execution_count": null,
      "outputs": [
        {
          "output_type": "stream",
          "name": "stdout",
          "text": [
            "['pera', 'lima', 'limon', 'kiwi', 'manzana']\n",
            "lima\n",
            "['pera', 'Mango', 'limon', 'kiwi', 'manzana']\n",
            "ICO\n",
            "[2, 4, 6, 8, 10, 12, 14, 16, 18, 20]\n",
            "[10, 12, 14]\n"
          ]
        }
      ]
    },
    {
      "cell_type": "code",
      "metadata": {
        "colab": {
          "base_uri": "https://localhost:8080/"
        },
        "id": "yXePXJJpPGpw",
        "outputId": "dc8e27ab-c615-422c-a4b9-405d468c29fd"
      },
      "source": [
        "# Listas multi dimensionales\n",
        "\n",
        "bds = [\"mysql\", \"Oracle\", \"BD2\", \"Mongo\", \"SQLite\"]\n",
        "leng_prog = [\"c\", \"Java\", \"JS\", \"C++\", \"C#\", \"python\"]\n",
        "tecnologias = [ bds, leng_prog ]\n",
        "print(tecnologias)\n",
        "\n",
        "\n",
        "\"\"\"\n",
        "[['mysql', 'Oracle', 'BD2', 'Mongo', 'SQLite'], ['c', 'Java', 'JS', 'C++', 'C#', 'python']]\n",
        "\"\"\"\n",
        "print(tecnologias [1][3]) #c++\n",
        "print(tecnologias [0][4]) #SQlite\n",
        "print(tecnologias [0][-1]) #SQlite\n",
        "print(tecnologias [1][2:5])"
      ],
      "execution_count": null,
      "outputs": [
        {
          "output_type": "stream",
          "name": "stdout",
          "text": [
            "[['mysql', 'Oracle', 'BD2', 'Mongo', 'SQLite'], ['c', 'Java', 'JS', 'C++', 'C#', 'python']]\n",
            "C++\n",
            "SQLite\n",
            "['JS', 'C++', 'C#']\n"
          ]
        }
      ]
    },
    {
      "cell_type": "markdown",
      "metadata": {
        "id": "1NcewKbFSoPe"
      },
      "source": [
        "## La clase list\n",
        "\n",
        "El tipo de dato list en realidad es una clase que tiene método.\n"
      ]
    },
    {
      "cell_type": "code",
      "metadata": {
        "colab": {
          "base_uri": "https://localhost:8080/"
        },
        "id": "LGjZuEC2SzA-",
        "outputId": "cb19a9dd-da0e-4a9a-accb-54b5ef91feae"
      },
      "source": [
        "numeros = [ 100, 23, 45, 23, 55, 55, 1, 22, 101, 99, 10, 13]\n",
        "type( numeros )  #regresa el tipo de dato\n",
        "dir( numeros )\n",
        "print( numeros.sort() ) #orden ascendente\n",
        "print( numeros )\n",
        "numeros.reverse() #orden descendente\n",
        "print( numeros )\n",
        "#Eliminar elementos de un arreglo: 2 formas\n",
        "#Forma 1\n",
        "#Utilizando el metodo remove\n",
        "numeros.remove(55)\n",
        "print( numeros )\n",
        "#Forma 2 es utilizando el opeador del\n",
        "\n",
        "del numeros[3]\n",
        "print ( numeros )\n",
        "# append agrega elementos al final\n",
        "numeros.append(0)\n",
        "numeros.append(33)\n",
        "numeros.sort()\n",
        "numeros.reverse()\n",
        "print( numeros )\n",
        "numeros.insert (3,60)\n",
        "print( numeros )\n",
        "n = numeros.pop()\n",
        "print(n)\n",
        "print(numeros)\n",
        "n = numeros.pop(1)\n",
        "print(n)\n",
        "print(numeros)\n",
        "\n",
        "mas_numeros = [400, 500, 600, 700]\n",
        "numeros.extend(mas_numeros)\n",
        "print(numeros)\n",
        "#numeros.clear()\n",
        "print(numeros)\n",
        "\n",
        "#listas y la estructura de control FOR\n",
        "for num in numeros:\n",
        "    print(f\"--> { num } <--\")"
      ],
      "execution_count": null,
      "outputs": [
        {
          "output_type": "stream",
          "name": "stdout",
          "text": [
            "None\n",
            "[1, 10, 13, 22, 23, 23, 45, 55, 55, 99, 100, 101]\n",
            "[101, 100, 99, 55, 55, 45, 23, 23, 22, 13, 10, 1]\n",
            "[101, 100, 99, 55, 45, 23, 23, 22, 13, 10, 1]\n",
            "[101, 100, 99, 45, 23, 23, 22, 13, 10, 1]\n",
            "[101, 100, 99, 45, 33, 23, 23, 22, 13, 10, 1, 0]\n",
            "[101, 100, 99, 60, 45, 33, 23, 23, 22, 13, 10, 1, 0]\n",
            "0\n",
            "[101, 100, 99, 60, 45, 33, 23, 23, 22, 13, 10, 1]\n",
            "100\n",
            "[101, 99, 60, 45, 33, 23, 23, 22, 13, 10, 1]\n",
            "[101, 99, 60, 45, 33, 23, 23, 22, 13, 10, 1, 400, 500, 600, 700]\n",
            "[101, 99, 60, 45, 33, 23, 23, 22, 13, 10, 1, 400, 500, 600, 700]\n",
            "--> 101 <--\n",
            "--> 99 <--\n",
            "--> 60 <--\n",
            "--> 45 <--\n",
            "--> 33 <--\n",
            "--> 23 <--\n",
            "--> 23 <--\n",
            "--> 22 <--\n",
            "--> 13 <--\n",
            "--> 10 <--\n",
            "--> 1 <--\n",
            "--> 400 <--\n",
            "--> 500 <--\n",
            "--> 600 <--\n",
            "--> 700 <--\n"
          ]
        }
      ]
    },
    {
      "cell_type": "markdown",
      "metadata": {
        "id": "_Doa3EIolYFV"
      },
      "source": [
        "#Tuplas\n",
        "* Estructura de datos lineal\n",
        "* Se declaran con (   )\n",
        "* Son **inmutables**\n",
        "* usan menos espacio en memoria\n",
        "* Son utiles parar declarar valores de consulta\n",
        "* Las demas caracteristicas son las mismas que las LISTAS"
      ]
    },
    {
      "cell_type": "code",
      "metadata": {
        "colab": {
          "base_uri": "https://localhost:8080/"
        },
        "id": "CER6vNPrmRYl",
        "outputId": "ef48c75c-0aa9-4ac0-9506-dbd09ce508c0"
      },
      "source": [
        "datos_conexion = (\"123.234.145.23\", \"Juan\", \"patito123\" )\n",
        "print(datos_conexion[0])\n",
        "#no se puede editar los valores\n",
        "#datos-conexion[0] = \"127.0.0.1\"\n",
        "dir(datos_conexion)"
      ],
      "execution_count": null,
      "outputs": [
        {
          "output_type": "stream",
          "name": "stdout",
          "text": [
            "123.234.145.23\n"
          ]
        },
        {
          "output_type": "execute_result",
          "data": {
            "text/plain": [
              "['__add__',\n",
              " '__class__',\n",
              " '__contains__',\n",
              " '__delattr__',\n",
              " '__dir__',\n",
              " '__doc__',\n",
              " '__eq__',\n",
              " '__format__',\n",
              " '__ge__',\n",
              " '__getattribute__',\n",
              " '__getitem__',\n",
              " '__getnewargs__',\n",
              " '__gt__',\n",
              " '__hash__',\n",
              " '__init__',\n",
              " '__init_subclass__',\n",
              " '__iter__',\n",
              " '__le__',\n",
              " '__len__',\n",
              " '__lt__',\n",
              " '__mul__',\n",
              " '__ne__',\n",
              " '__new__',\n",
              " '__reduce__',\n",
              " '__reduce_ex__',\n",
              " '__repr__',\n",
              " '__rmul__',\n",
              " '__setattr__',\n",
              " '__sizeof__',\n",
              " '__str__',\n",
              " '__subclasshook__',\n",
              " 'count',\n",
              " 'index']"
            ]
          },
          "metadata": {},
          "execution_count": 24
        }
      ]
    },
    {
      "cell_type": "code",
      "metadata": {
        "colab": {
          "base_uri": "https://localhost:8080/"
        },
        "id": "wYDjUkwUnEax",
        "outputId": "149d7443-294c-4f4e-a27f-5dab95f31031"
      },
      "source": [
        "dir(list)"
      ],
      "execution_count": null,
      "outputs": [
        {
          "output_type": "execute_result",
          "data": {
            "text/plain": [
              "['__add__',\n",
              " '__class__',\n",
              " '__contains__',\n",
              " '__delattr__',\n",
              " '__delitem__',\n",
              " '__dir__',\n",
              " '__doc__',\n",
              " '__eq__',\n",
              " '__format__',\n",
              " '__ge__',\n",
              " '__getattribute__',\n",
              " '__getitem__',\n",
              " '__gt__',\n",
              " '__hash__',\n",
              " '__iadd__',\n",
              " '__imul__',\n",
              " '__init__',\n",
              " '__init_subclass__',\n",
              " '__iter__',\n",
              " '__le__',\n",
              " '__len__',\n",
              " '__lt__',\n",
              " '__mul__',\n",
              " '__ne__',\n",
              " '__new__',\n",
              " '__reduce__',\n",
              " '__reduce_ex__',\n",
              " '__repr__',\n",
              " '__reversed__',\n",
              " '__rmul__',\n",
              " '__setattr__',\n",
              " '__setitem__',\n",
              " '__sizeof__',\n",
              " '__str__',\n",
              " '__subclasshook__',\n",
              " 'append',\n",
              " 'clear',\n",
              " 'copy',\n",
              " 'count',\n",
              " 'extend',\n",
              " 'index',\n",
              " 'insert',\n",
              " 'pop',\n",
              " 'remove',\n",
              " 'reverse',\n",
              " 'sort']"
            ]
          },
          "metadata": {},
          "execution_count": 25
        }
      ]
    },
    {
      "cell_type": "markdown",
      "metadata": {
        "id": "Fu7afTpIYDMW"
      },
      "source": [
        "# Diccionarios\n",
        "* Estructura no lineal\n",
        "* Formada por pares llave-valor {\"key\":valor}\n",
        "* Donde valor puede ser de cualqui tipo tipo, int, float, list, diccionario.\n",
        "* no se selecciona con [numero] X\n",
        "* Se selecciona con [llave]\n",
        "* Su selector es por llave (key)\n",
        "* son mutables"
      ]
    },
    {
      "cell_type": "code",
      "metadata": {
        "colab": {
          "base_uri": "https://localhost:8080/"
        },
        "id": "tx6UFKFiYlIf",
        "outputId": "4c536d85-169f-4cea-e870-e07c1fce6501"
      },
      "source": [
        "persona = {\"nombre\": \"Jose\", \"edad\" : 19, \"estatura\": 1.7}\n",
        "print(persona)\n",
        "print(f\"La estatura es: {persona['estatura']} metros\")\n",
        "\n",
        "estudiante = {\n",
        "\"nombre\" : { \"nombres\" : [\"Juan\", \"Jose\"] ,\n",
        "\"paterno\" : \"Pérez\" ,\n",
        "\"materno\" : \" Garcia\"\n",
        "} ,\n",
        "\"edad\" : 19 ,\n",
        "\"estatura\" : 1.7,\n",
        "\"carrera\" : {\n",
        "\"escuela\" : \"UNAM FES Aragón\",\n",
        "\"Carrera\" : \"ICO\",\n",
        "\"semestre\" : 2\n",
        "},\n",
        "\"direccion\" : {\n",
        "\"calle\" : \"Colorines\",\n",
        "\"num_exterior\" : 34,\n",
        "\"interior\" : \"apartmento B\"\n",
        "},\n",
        "\"telefonos\" : {\n",
        "\"casa\" : 556463663,\n",
        "\"celular\" : [\"+5255767664\" , \"+52557373773\"]\n",
        "}\n",
        "\n",
        "}\n",
        "\n",
        "\n",
        "# ejemplo\n",
        "print(estudiante['direccion']['calle'])\n",
        "print(f\"La estatura es : {estudiante['estatura']}\")\n",
        "print(estudiante['telefonos']['celular'][1])\n",
        "\n",
        "estudiante ['direccion']['calle'] = 'Pancho Lopez'\n",
        "print(estudiante['direccion'])\n",
        "estudiante ['direccion']['colonia'] = 'Impulsora'\n",
        "print(estudiante['direccion'])\n",
        "\n",
        "#Combinar con la invocacion de metodos de los valores\n",
        "# Mostrar el nombre del estudiante en mayusculas\n",
        "\n",
        "\n",
        "print(estudiante['nombre']['nombres'][0].upper(),estudiante['nombre']['nombres'][1].upper())\n",
        "\n",
        "\n",
        "# keys()\n",
        "llaves = estudiante.keys()\n",
        "print( llaves )\n",
        "print(\"-----------\")\n",
        "for llave in llaves:\n",
        "    print(llave)\n",
        "    print(estudiante[llave])\n",
        "print(\"-------------\")\n",
        "# value()\n",
        "vals = estudiante.values()\n",
        "for val in vals:\n",
        "    (print(val))\n",
        "\n",
        "print(\"----items----\")\n",
        "elems = estudiante.items()\n",
        "print(elems)\n",
        "\n",
        "for par in elems:\n",
        "    print(par)\n",
        "    print(par[0]) #imprimir solo llaves\n",
        "    print(\"------\")\n",
        "    print(par[1]) #imprimir valores"
      ],
      "execution_count": null,
      "outputs": [
        {
          "output_type": "stream",
          "name": "stdout",
          "text": [
            "{'nombre': 'Jose', 'edad': 19, 'estatura': 1.7}\n",
            "La estatura es: 1.7 metros\n",
            "Colorines\n",
            "La estatura es : 1.7\n",
            "+52557373773\n",
            "{'calle': 'Pancho Lopez', 'num_exterior': 34, 'interior': 'apartmento B'}\n",
            "{'calle': 'Pancho Lopez', 'num_exterior': 34, 'interior': 'apartmento B', 'colonia': 'Impulsora'}\n",
            "JUAN JOSE\n",
            "dict_keys(['nombre', 'edad', 'estatura', 'carrera', 'direccion', 'telefonos'])\n",
            "-----------\n",
            "nombre\n",
            "{'nombres': ['Juan', 'Jose'], 'paterno': 'Pérez', 'materno': ' Garcia'}\n",
            "edad\n",
            "19\n",
            "estatura\n",
            "1.7\n",
            "carrera\n",
            "{'escuela': 'UNAM FES Aragón', 'Carrera': 'ICO', 'semestre': 2}\n",
            "direccion\n",
            "{'calle': 'Pancho Lopez', 'num_exterior': 34, 'interior': 'apartmento B', 'colonia': 'Impulsora'}\n",
            "telefonos\n",
            "{'casa': 556463663, 'celular': ['+5255767664', '+52557373773']}\n",
            "-------------\n",
            "{'nombres': ['Juan', 'Jose'], 'paterno': 'Pérez', 'materno': ' Garcia'}\n",
            "19\n",
            "1.7\n",
            "{'escuela': 'UNAM FES Aragón', 'Carrera': 'ICO', 'semestre': 2}\n",
            "{'calle': 'Pancho Lopez', 'num_exterior': 34, 'interior': 'apartmento B', 'colonia': 'Impulsora'}\n",
            "{'casa': 556463663, 'celular': ['+5255767664', '+52557373773']}\n",
            "----items----\n",
            "dict_items([('nombre', {'nombres': ['Juan', 'Jose'], 'paterno': 'Pérez', 'materno': ' Garcia'}), ('edad', 19), ('estatura', 1.7), ('carrera', {'escuela': 'UNAM FES Aragón', 'Carrera': 'ICO', 'semestre': 2}), ('direccion', {'calle': 'Pancho Lopez', 'num_exterior': 34, 'interior': 'apartmento B', 'colonia': 'Impulsora'}), ('telefonos', {'casa': 556463663, 'celular': ['+5255767664', '+52557373773']})])\n",
            "('nombre', {'nombres': ['Juan', 'Jose'], 'paterno': 'Pérez', 'materno': ' Garcia'})\n",
            "nombre\n",
            "------\n",
            "{'nombres': ['Juan', 'Jose'], 'paterno': 'Pérez', 'materno': ' Garcia'}\n",
            "('edad', 19)\n",
            "edad\n",
            "------\n",
            "19\n",
            "('estatura', 1.7)\n",
            "estatura\n",
            "------\n",
            "1.7\n",
            "('carrera', {'escuela': 'UNAM FES Aragón', 'Carrera': 'ICO', 'semestre': 2})\n",
            "carrera\n",
            "------\n",
            "{'escuela': 'UNAM FES Aragón', 'Carrera': 'ICO', 'semestre': 2}\n",
            "('direccion', {'calle': 'Pancho Lopez', 'num_exterior': 34, 'interior': 'apartmento B', 'colonia': 'Impulsora'})\n",
            "direccion\n",
            "------\n",
            "{'calle': 'Pancho Lopez', 'num_exterior': 34, 'interior': 'apartmento B', 'colonia': 'Impulsora'}\n",
            "('telefonos', {'casa': 556463663, 'celular': ['+5255767664', '+52557373773']})\n",
            "telefonos\n",
            "------\n",
            "{'casa': 556463663, 'celular': ['+5255767664', '+52557373773']}\n"
          ]
        }
      ]
    },
    {
      "cell_type": "code",
      "metadata": {
        "colab": {
          "base_uri": "https://localhost:8080/"
        },
        "id": "cL32xYm1h3_Z",
        "outputId": "6076a9df-ab98-4ed0-c9f6-81faddefff06"
      },
      "source": [
        "#dir(estudiante) comandos parar editar el codigo\n",
        "help(estudiante)"
      ],
      "execution_count": null,
      "outputs": [
        {
          "output_type": "stream",
          "name": "stdout",
          "text": [
            "Help on dict object:\n",
            "\n",
            "class dict(object)\n",
            " |  dict() -> new empty dictionary\n",
            " |  dict(mapping) -> new dictionary initialized from a mapping object's\n",
            " |      (key, value) pairs\n",
            " |  dict(iterable) -> new dictionary initialized as if via:\n",
            " |      d = {}\n",
            " |      for k, v in iterable:\n",
            " |          d[k] = v\n",
            " |  dict(**kwargs) -> new dictionary initialized with the name=value pairs\n",
            " |      in the keyword argument list.  For example:  dict(one=1, two=2)\n",
            " |  \n",
            " |  Methods defined here:\n",
            " |  \n",
            " |  __contains__(self, key, /)\n",
            " |      True if the dictionary has the specified key, else False.\n",
            " |  \n",
            " |  __delitem__(self, key, /)\n",
            " |      Delete self[key].\n",
            " |  \n",
            " |  __eq__(self, value, /)\n",
            " |      Return self==value.\n",
            " |  \n",
            " |  __ge__(self, value, /)\n",
            " |      Return self>=value.\n",
            " |  \n",
            " |  __getattribute__(self, name, /)\n",
            " |      Return getattr(self, name).\n",
            " |  \n",
            " |  __getitem__(...)\n",
            " |      x.__getitem__(y) <==> x[y]\n",
            " |  \n",
            " |  __gt__(self, value, /)\n",
            " |      Return self>value.\n",
            " |  \n",
            " |  __init__(self, /, *args, **kwargs)\n",
            " |      Initialize self.  See help(type(self)) for accurate signature.\n",
            " |  \n",
            " |  __iter__(self, /)\n",
            " |      Implement iter(self).\n",
            " |  \n",
            " |  __le__(self, value, /)\n",
            " |      Return self<=value.\n",
            " |  \n",
            " |  __len__(self, /)\n",
            " |      Return len(self).\n",
            " |  \n",
            " |  __lt__(self, value, /)\n",
            " |      Return self<value.\n",
            " |  \n",
            " |  __ne__(self, value, /)\n",
            " |      Return self!=value.\n",
            " |  \n",
            " |  __repr__(self, /)\n",
            " |      Return repr(self).\n",
            " |  \n",
            " |  __setitem__(self, key, value, /)\n",
            " |      Set self[key] to value.\n",
            " |  \n",
            " |  __sizeof__(...)\n",
            " |      D.__sizeof__() -> size of D in memory, in bytes\n",
            " |  \n",
            " |  clear(...)\n",
            " |      D.clear() -> None.  Remove all items from D.\n",
            " |  \n",
            " |  copy(...)\n",
            " |      D.copy() -> a shallow copy of D\n",
            " |  \n",
            " |  get(self, key, default=None, /)\n",
            " |      Return the value for key if key is in the dictionary, else default.\n",
            " |  \n",
            " |  items(...)\n",
            " |      D.items() -> a set-like object providing a view on D's items\n",
            " |  \n",
            " |  keys(...)\n",
            " |      D.keys() -> a set-like object providing a view on D's keys\n",
            " |  \n",
            " |  pop(...)\n",
            " |      D.pop(k[,d]) -> v, remove specified key and return the corresponding value.\n",
            " |      If key is not found, d is returned if given, otherwise KeyError is raised\n",
            " |  \n",
            " |  popitem(...)\n",
            " |      D.popitem() -> (k, v), remove and return some (key, value) pair as a\n",
            " |      2-tuple; but raise KeyError if D is empty.\n",
            " |  \n",
            " |  setdefault(self, key, default=None, /)\n",
            " |      Insert key with a value of default if key is not in the dictionary.\n",
            " |      \n",
            " |      Return the value for key if key is in the dictionary, else default.\n",
            " |  \n",
            " |  update(...)\n",
            " |      D.update([E, ]**F) -> None.  Update D from dict/iterable E and F.\n",
            " |      If E is present and has a .keys() method, then does:  for k in E: D[k] = E[k]\n",
            " |      If E is present and lacks a .keys() method, then does:  for k, v in E: D[k] = v\n",
            " |      In either case, this is followed by: for k in F:  D[k] = F[k]\n",
            " |  \n",
            " |  values(...)\n",
            " |      D.values() -> an object providing a view on D's values\n",
            " |  \n",
            " |  ----------------------------------------------------------------------\n",
            " |  Class methods defined here:\n",
            " |  \n",
            " |  fromkeys(iterable, value=None, /) from builtins.type\n",
            " |      Create a new dictionary with keys from iterable and values set to value.\n",
            " |  \n",
            " |  ----------------------------------------------------------------------\n",
            " |  Static methods defined here:\n",
            " |  \n",
            " |  __new__(*args, **kwargs) from builtins.type\n",
            " |      Create and return a new object.  See help(type) for accurate signature.\n",
            " |  \n",
            " |  ----------------------------------------------------------------------\n",
            " |  Data and other attributes defined here:\n",
            " |  \n",
            " |  __hash__ = None\n",
            "\n"
          ]
        }
      ]
    },
    {
      "cell_type": "markdown",
      "metadata": {
        "id": "_yw2fvrlo44A"
      },
      "source": [
        "# Funciones 2a parte (El reencuentro)\n",
        "\n",
        "### Declarar funciones combinando con **touplas**\n",
        "Se puede recibir una lista de argumentos dinamica que se almacenara en una tupla. Para ello se utiliza un operador especial que es '*' en la declaracion de la funcion.\n",
        "\n",
        "`\n",
        "def mi_funcion(*algo):\n",
        "print(algo)\n",
        "`"
      ]
    },
    {
      "cell_type": "code",
      "metadata": {
        "colab": {
          "base_uri": "https://localhost:8080/"
        },
        "id": "heEb8_nzp_ZY",
        "outputId": "f91bc4e0-f3b9-4555-9d51-15b84fe365b5"
      },
      "source": [
        "def mi_funcion( *argumentos):\n",
        "    print(argumentos)\n",
        "\n",
        "mi_funcion(1,2,3, \"Hola\", 3.1416)\n",
        "\n",
        "def suma_v2( *vals ):\n",
        "    suma = 0\n",
        "    for valor in vals:\n",
        "        suma+= valor\n",
        "    print(suma)\n",
        "suma_v2(6,7,7,8,9,0,8,7)"
      ],
      "execution_count": null,
      "outputs": [
        {
          "output_type": "stream",
          "name": "stdout",
          "text": [
            "(1, 2, 3, 'Hola', 3.1416)\n",
            "52\n"
          ]
        }
      ]
    },
    {
      "cell_type": "markdown",
      "metadata": {
        "id": "LuO56bh2sYrY"
      },
      "source": [
        "### declarar funciones declarandolas con **diccionarios**\n",
        "\n",
        "`\n",
        "def mi_funcion(**argumentos):\n",
        "print(argumentos)\n",
        "#argumentos es un diccionario\n",
        "`"
      ]
    },
    {
      "cell_type": "code",
      "metadata": {
        "colab": {
          "base_uri": "https://localhost:8080/"
        },
        "id": "IMngPPX5tL7_",
        "outputId": "f92d1447-299a-4848-f867-8fdfaff099e6"
      },
      "source": [
        "def mi_funcion( ** argumentos ):\n",
        "    print(argumentos)\n",
        "mi_funcion(nombre = \"Fernanda\", edad = 19)\n"
      ],
      "execution_count": null,
      "outputs": [
        {
          "output_type": "stream",
          "name": "stdout",
          "text": [
            "{'nombre': 'Fernanda', 'edad': 19}\n"
          ]
        }
      ]
    },
    {
      "cell_type": "markdown",
      "metadata": {
        "id": "jVjIAZYnt-t0"
      },
      "source": [
        "# Tarea\n",
        "Hacer un programa que permita levantar la comanda de un restaurante, de la forma:\n",
        "Menu_select(mesa=3,comensal=2,entrada=\"Ensala verde\", medio=\"crema de zanahoria\", fuerte=\"filete\"\n",
        "adicionales=\"Filete termino medio, la ensalada sin ningun tipo de semilla, Adereso Ranch\"\n",
        "\n",
        "El resultado debe ser asi:\n",
        "Detalle: \n",
        "            Mesa:3\n",
        "            Comensal:2\n",
        "            Entrada: Ensalada verde\n",
        "            Medio: crema de zanahoria\n",
        "            Fuerte: Filete\n",
        "            Adicionales: Filete termino medio, la ensalada sin ningun tipo de semilla, Adereso Ranch"
      ]
    },
    {
      "cell_type": "markdown",
      "metadata": {
        "id": "y3ylxIUCvyEb"
      },
      "source": [
        "HAcer la formula general"
      ]
    },
    {
      "cell_type": "markdown",
      "metadata": {
        "id": "BFlVnj-aLkYg"
      },
      "source": [
        "##Modulos\n",
        "Un módulo en python es quivalente a un package en java o un archivo .H en lenguaje C.\n",
        "\n",
        "En el declaras código que quieres llamar varias veces, este codigo debe estar empaquetado principalmente en funciones"
      ]
    },
    {
      "cell_type": "code",
      "metadata": {
        "colab": {
          "base_uri": "https://localhost:8080/"
        },
        "id": "IejoNciVNxYT",
        "outputId": "c9e4cd98-2d8a-449a-b1e0-2aee989d6c4f"
      },
      "source": [
        "import mimodulo\n",
        "\n",
        "mimodulo.mi_suma( 3, 5)\n",
        "\n",
        "mimodulo.mi_print(\"hola k ase\")\n",
        "mimodulo.al_reves(\"hola k ase\")"
      ],
      "execution_count": null,
      "outputs": [
        {
          "output_type": "stream",
          "name": "stdout",
          "text": [
            "Haciendo una suma\n",
            "La suma de 3 + 5 = 8\n",
            "HOLA K ASE\n",
            "esa k aloh\n"
          ]
        }
      ]
    },
    {
      "cell_type": "code",
      "metadata": {
        "colab": {
          "base_uri": "https://localhost:8080/"
        },
        "id": "_rw1SgSMQ28F",
        "outputId": "b5e8475c-b3f7-4fec-bcff-ef43b3ac06fa"
      },
      "source": [
        "from mimodulo import mi_print\n",
        "\n",
        "mi_print(\"hola de nuevo\")"
      ],
      "execution_count": null,
      "outputs": [
        {
          "output_type": "stream",
          "name": "stdout",
          "text": [
            "HOLA DE NUEVO\n"
          ]
        }
      ]
    },
    {
      "cell_type": "code",
      "metadata": {
        "colab": {
          "base_uri": "https://localhost:8080/"
        },
        "id": "guryq7BORCph",
        "outputId": "11b98930-409e-4331-f408-7323f84cf2b0"
      },
      "source": [
        "from mimodulo import mi_suma\n",
        "\n",
        "mi_suma(3 , 4)"
      ],
      "execution_count": null,
      "outputs": [
        {
          "output_type": "stream",
          "name": "stdout",
          "text": [
            "Haciendo una suma\n",
            "La suma de 3 + 4 = 7\n"
          ]
        }
      ]
    },
    {
      "cell_type": "code",
      "metadata": {
        "colab": {
          "base_uri": "https://localhost:8080/"
        },
        "id": "xWBP8WaLRKNM",
        "outputId": "8a1c6410-857c-4a3a-e954-33febf6f49ec"
      },
      "source": [
        "from mimodulo import al_reves\n",
        "al_reves(\"hola de nuevo\")"
      ],
      "execution_count": null,
      "outputs": [
        {
          "output_type": "stream",
          "name": "stdout",
          "text": [
            "oveun ed aloh\n"
          ]
        }
      ]
    },
    {
      "cell_type": "code",
      "metadata": {
        "colab": {
          "base_uri": "https://localhost:8080/"
        },
        "id": "j9LnIOGcSQdg",
        "outputId": "a29d877c-d322-4035-c67b-d4ad04a79bb4"
      },
      "source": [
        "import sys\n",
        "#dir(sys)\n",
        "print(sys.path)\n"
      ],
      "execution_count": null,
      "outputs": [
        {
          "output_type": "stream",
          "name": "stdout",
          "text": [
            "['', '/content', '/env/python', '/usr/lib/python37.zip', '/usr/lib/python3.7', '/usr/lib/python3.7/lib-dynload', '/usr/local/lib/python3.7/dist-packages', '/usr/lib/python3/dist-packages', '/usr/local/lib/python3.7/dist-packages/IPython/extensions', '/root/.ipython']\n"
          ]
        }
      ]
    },
    {
      "cell_type": "code",
      "metadata": {
        "colab": {
          "base_uri": "https://localhost:8080/"
        },
        "id": "QTwVspgST32Q",
        "outputId": "d61f5a6d-f5aa-457c-e64a-4c20bcd27f14"
      },
      "source": [
        "#!ls\n",
        "# programa para instalar modulos\n",
        "!pip install simple-chalk"
      ],
      "execution_count": null,
      "outputs": [
        {
          "output_type": "stream",
          "name": "stdout",
          "text": [
            "Collecting simple-chalk\n",
            "  Downloading simple_chalk-0.1.0.tar.gz (13 kB)\n",
            "Building wheels for collected packages: simple-chalk\n",
            "  Building wheel for simple-chalk (setup.py) ... \u001b[?25l\u001b[?25hdone\n",
            "  Created wheel for simple-chalk: filename=simple_chalk-0.1.0-py3-none-any.whl size=22163 sha256=152eae1b217e173fd23fce84de69a643f652d9922e5e680c8512ecb0768abbd7\n",
            "  Stored in directory: /root/.cache/pip/wheels/24/e2/84/d54838032016039eef79df1137b91defaa6db068d825dfcdcd\n",
            "Successfully built simple-chalk\n",
            "Installing collected packages: simple-chalk\n",
            "Successfully installed simple-chalk-0.1.0\n"
          ]
        }
      ]
    },
    {
      "cell_type": "code",
      "metadata": {
        "colab": {
          "base_uri": "https://localhost:8080/"
        },
        "id": "MnIDd4hMUXj9",
        "outputId": "fc7df864-6657-467f-e234-4d7a7ad67086"
      },
      "source": [
        "from simple_chalk import *\n",
        "\n",
        "print(chalk.blue(\"Texto en azul\"))\n",
        "print((\"Texto\"))\n",
        "whyNot = green.bgWhite.red.bgGray\n",
        "print(whyNot(\"this is red text with a gray background\"))\n",
        "verde_sobre_negro = green. bgBlack\n",
        "print(verde_sobre_negro(\"test\"))"
      ],
      "execution_count": null,
      "outputs": [
        {
          "output_type": "stream",
          "name": "stdout",
          "text": [
            "\u001b[34mTexto en azul\u001b[0m\n",
            "Texto\n",
            "\u001b[31;100mthis is red text with a gray background\u001b[0m\n",
            "\u001b[32;40mtest\u001b[0m\n"
          ]
        }
      ]
    },
    {
      "cell_type": "markdown",
      "metadata": {
        "id": "IjnAwT0lXF1A"
      },
      "source": [
        "# Archivos\n",
        "\n",
        "\n",
        "Para abiri un archivo se utiliza la funcion open ('nombre', 'AB)\n",
        "\n",
        "nombre = La ruta del archivo\n",
        "A = modo de apertura ( W, r, a, ...)\n",
        "B = Formato t (texto)o b (binario)\n",
        "\n",
        "Para leer tenemos las funciones:\n",
        "- read()\n",
        "- readline()\n",
        "- readlines()"
      ]
    },
    {
      "cell_type": "code",
      "metadata": {
        "colab": {
          "base_uri": "https://localhost:8080/"
        },
        "id": "VYEcnJ9dY1CY",
        "outputId": "bd9f6430-add4-4474-d0ad-799567e071cf"
      },
      "source": [
        "!cat datos.dat"
      ],
      "execution_count": null,
      "outputs": [
        {
          "output_type": "stream",
          "name": "stdout",
          "text": [
            "1, 2, 3, 4, 5, 6, 7\r\n",
            "8, 9, 10\r\n",
            "11, 12\r\n",
            "13"
          ]
        }
      ]
    },
    {
      "cell_type": "code",
      "metadata": {
        "colab": {
          "base_uri": "https://localhost:8080/",
          "height": 226
        },
        "id": "K32ap_MzYZNp",
        "outputId": "eef705ba-8e6e-45e2-b509-104ab7377452"
      },
      "source": [
        "\"\"\"\n",
        "1, 2, 3, 4, 5, 6, 7\n",
        "8, 9, 10\n",
        "11, 12\n",
        "13\n",
        "\"\"\"\n",
        "archivo = open('datos.dat','rt')\n",
        "info = archivo.read()\n",
        "print( info )\n",
        "\n",
        "#readline()\n",
        "print(\"-------readline-------\")\n",
        "archivo = open('datos.dat','rt') #se manda a abrir el archivo para reiniciar el puntero y comience en Inicio\n",
        "info = archivo.readline()  #imprime por partes hasta que se termine la linea\n",
        "print(info)\n",
        "info = archivo.readline()\n",
        "print(info)\n",
        "\n",
        "#readlines()\n",
        "print(\"------readlines-----\")\n",
        "archivo = open('datos.dat','rt')\n",
        "info = archivo.readlines()\n",
        "print(info)\n",
        "for index in range(len(info)): #for numerico\n",
        "    info[index] = info[index].strip()\n",
        "print(info)\n",
        "\n",
        "numeros = []\n",
        "\n",
        "for grupo in info: #for string\n",
        "    for numero in grupo.split(','):\n",
        "        numeros.append(numero)\n",
        "print(numeros)\n",
        "\n",
        "#suma = 0\n",
        "#for num in numeros:\n",
        " #   suma += num\n",
        "#print( suma ) "
      ],
      "execution_count": 1,
      "outputs": [
        {
          "output_type": "error",
          "ename": "FileNotFoundError",
          "evalue": "ignored",
          "traceback": [
            "\u001b[0;31m---------------------------------------------------------------------------\u001b[0m",
            "\u001b[0;31mFileNotFoundError\u001b[0m                         Traceback (most recent call last)",
            "\u001b[0;32m<ipython-input-1-1ba81b0f913f>\u001b[0m in \u001b[0;36m<module>\u001b[0;34m()\u001b[0m\n\u001b[1;32m      5\u001b[0m \u001b[0;36m13\u001b[0m\u001b[0;34m\u001b[0m\u001b[0;34m\u001b[0m\u001b[0m\n\u001b[1;32m      6\u001b[0m \"\"\"\n\u001b[0;32m----> 7\u001b[0;31m \u001b[0marchivo\u001b[0m \u001b[0;34m=\u001b[0m \u001b[0mopen\u001b[0m\u001b[0;34m(\u001b[0m\u001b[0;34m'datos.dat'\u001b[0m\u001b[0;34m,\u001b[0m\u001b[0;34m'rt'\u001b[0m\u001b[0;34m)\u001b[0m\u001b[0;34m\u001b[0m\u001b[0;34m\u001b[0m\u001b[0m\n\u001b[0m\u001b[1;32m      8\u001b[0m \u001b[0minfo\u001b[0m \u001b[0;34m=\u001b[0m \u001b[0marchivo\u001b[0m\u001b[0;34m.\u001b[0m\u001b[0mread\u001b[0m\u001b[0;34m(\u001b[0m\u001b[0;34m)\u001b[0m\u001b[0;34m\u001b[0m\u001b[0;34m\u001b[0m\u001b[0m\n\u001b[1;32m      9\u001b[0m \u001b[0mprint\u001b[0m\u001b[0;34m(\u001b[0m \u001b[0minfo\u001b[0m \u001b[0;34m)\u001b[0m\u001b[0;34m\u001b[0m\u001b[0;34m\u001b[0m\u001b[0m\n",
            "\u001b[0;31mFileNotFoundError\u001b[0m: [Errno 2] No such file or directory: 'datos.dat'"
          ]
        }
      ]
    },
    {
      "cell_type": "code",
      "metadata": {
        "id": "2Y1RPXqSfLqP"
      },
      "source": [
        ""
      ],
      "execution_count": 1,
      "outputs": []
    },
    {
      "cell_type": "markdown",
      "metadata": {
        "id": "8vKSeKOTeYfi"
      },
      "source": [
        "#Programacion Orientada a Objetos en python\n",
        "\n",
        "la POO es un paradigma no soportado originalmente por python, python maneja el paradigma Imperativo.\n",
        "\n",
        "Python simila la POO con la declaracion de clases y haciendo referencia a un objeto de forma circular.\n",
        "\"\"self en python es equvalente a this de JAVA\"\"\n",
        "1. forma 1\n",
        "`\n",
        "class <Nombre de la clase>:\n",
        "    <definicion del cuerpo de la clase>\n",
        "`\n",
        "2. forma 2\n",
        "`\n",
        "class <nombre de la clase>(<superclase>):\n",
        "    <definicion del cuerpo de la clase>\n",
        "`\n",
        "El constructor se define siempre con el metodo __init__()\n",
        "(DOBLE GUION BAJO ANTES Y DESPUES DE init)\n",
        "\n",
        "La declaracion de atributos se realiza por medio de el constructor.\n",
        "Para hacer encapsulamiento de metodos o atributos se debe poner __ (DOBLE GUION BAJO) previo a la delaracion del atributo o metodos\n",
        "(private antes del metodo en JAVA)\n"
      ]
    },
    {
      "cell_type": "code",
      "metadata": {
        "id": "TFKbsncqhiMr"
      },
      "source": [
        "class Persona:\n",
        "    def __init__(self, n , e, est):\n",
        "        self.__nombre = n\n",
        "        self.__edad = e\n",
        "        self.__estatura = est\n",
        "    def to_string( self ):\n",
        "        return \"Nombre: \" + self.__nombre + \"Edad: \" + str(self.__edad) + \"Estatura: \" + str(self.__estatura)\n",
        "\n",
        "    def set_estatura(self, nueva_est):\n",
        "        if nueva_est > 0.10 and nueva_est < 2.5 :\n",
        "            self.__estatura = nueva_est\n",
        "        else:\n",
        "            print(\"ERROR: Esa estatura no es posible\")\n",
        "    def get_estatura( self):\n",
        "        return self.__estatura"
      ],
      "execution_count": 6,
      "outputs": []
    },
    {
      "cell_type": "code",
      "metadata": {
        "id": "nSxoLyEFluCR"
      },
      "source": [
        ""
      ],
      "execution_count": null,
      "outputs": []
    },
    {
      "cell_type": "code",
      "metadata": {
        "colab": {
          "base_uri": "https://localhost:8080/"
        },
        "id": "bkj-EfhpivFX",
        "outputId": "c021f0d9-d24e-4ce2-b629-628ad7291ba9"
      },
      "source": [
        "per = Persona(\"Jose\",18,1.70)\n",
        "print(per.to_string())\n",
        "\n",
        "#encapsulamiento\n",
        "\n",
        "per.nombre = \"Pedro\" # Esto no se recomienda\n",
        "\n",
        "print(per.to_string())\n",
        "\n",
        "#per.estatura = 3.9\n",
        "per.set_estatura(3.9)\n",
        "print(per.to_string())\n",
        "\n",
        "print(\"Estatura: \" , end=\"\")\n",
        "#print( per.__estatura)\n",
        "print(per.get_estatura())\n"
      ],
      "execution_count": 7,
      "outputs": [
        {
          "output_type": "stream",
          "name": "stdout",
          "text": [
            "Nombre: JoseEdad: 18Estatura: 1.7\n",
            "Nombre: JoseEdad: 18Estatura: 1.7\n",
            "ERROR: Esa estatura no es posible\n",
            "Nombre: JoseEdad: 18Estatura: 1.7\n",
            "Estatura: 1.7\n"
          ]
        }
      ]
    },
    {
      "cell_type": "code",
      "metadata": {
        "id": "bnVi1AdQqubi"
      },
      "source": [
        "class Estudiante( Persona ):\n",
        "    def __init__(self,  nc, nombre, edad, est):\n",
        "        self.__num_cta = nc\n",
        "        super().__init__(nombre,edad,est)\n",
        "    def to_string(self):\n",
        "        \n",
        "        return super().to_string() + \"Numero de cta.:\" + self.__num_cta"
      ],
      "execution_count": 16,
      "outputs": []
    },
    {
      "cell_type": "code",
      "metadata": {
        "colab": {
          "base_uri": "https://localhost:8080/"
        },
        "id": "uoYl1mCFrKqr",
        "outputId": "f7e32e64-685e-48d6-9eb4-557b3aeeee33"
      },
      "source": [
        "est = Estudiante(\"21212121\",\"Jose\",18,1.7,)\n",
        "print( est.to_string() )"
      ],
      "execution_count": 17,
      "outputs": [
        {
          "output_type": "stream",
          "name": "stdout",
          "text": [
            "Nombre: JoseEdad: 18Estatura: 1.7Numero de cta.:21212121\n"
          ]
        }
      ]
    }
  ]
}